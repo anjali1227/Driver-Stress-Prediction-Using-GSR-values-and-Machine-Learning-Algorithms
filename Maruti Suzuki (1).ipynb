{
 "cells": [
  {
   "cell_type": "code",
   "execution_count": 1,
   "id": "103ef026",
   "metadata": {},
   "outputs": [],
   "source": [
    "#USING ADABOOST MODEL \n",
    "import numpy as np\n",
    "import pandas as pd\n",
    "from sklearn.linear_model import Perceptron\n",
    "from sklearn.metrics import accuracy_score, confusion_matrix\n",
    "from sklearn.ensemble import AdaBoostClassifier\n",
    "from sklearn.tree import DecisionTreeClassifier\n",
    "from sklearn.model_selection import train_test_split"
   ]
  },
  {
   "cell_type": "code",
   "execution_count": 2,
   "id": "0aa9bc7d",
   "metadata": {},
   "outputs": [
    {
     "name": "stdout",
     "output_type": "stream",
     "text": [
      "     Participant  Task      Mean Time difference     State Task Type  \\\n",
      "0              1     1  5.788907         00:00:20  Driving     Voice   \n",
      "1              1     2  7.434986         00:00:06  Driving     Touch   \n",
      "2              1     3  6.813145         00:00:48  Driving     Touch   \n",
      "3              1     4  6.144838         00:00:16  Driving     Voice   \n",
      "4              1     5  5.080044         00:00:06  Driving     Touch   \n",
      "..           ...   ...       ...              ...      ...       ...   \n",
      "307           13    20  3.318020         00:00:08  Driving    Hybrid   \n",
      "308           13    21  2.899259         00:00:10  Driving     Voice   \n",
      "309           13    22  3.071401         00:00:08  Driving     Voice   \n",
      "310           13    23  3.104857         00:00:16  Driving    Hybrid   \n",
      "311           13    24  3.238166         00:00:16  Driving     Touch   \n",
      "\n",
      "       Task Category        Task Nature  Baseline Mean   Normalised GSR  \\\n",
      "0      Radio Voice 1                 FM       13.394664       -7.605758   \n",
      "1      Temp. Touch 1        Temperature       13.394664       -5.959679   \n",
      "2     Navig. Touch 1  Navigation Search       13.394664       -6.581520   \n",
      "3       Call Voice 1               Call       13.394664       -7.249826   \n",
      "4      Radio Touch 1                 FM       13.394664       -8.314620   \n",
      "..               ...                ...             ...             ...   \n",
      "307    Call Hybrid 1               Call        0.811397        2.506623   \n",
      "308    Radio Voice 3                 FM        0.811397        2.087862   \n",
      "309    Temp. Voice 3        Temperature        0.811397        2.260004   \n",
      "310  Navig. Hybrid 2  Navigation Search        0.811397        2.293460   \n",
      "311     Call Touch 2               Call        0.811397        2.426769   \n",
      "\n",
      "     standard deviation  Anxiety Score  \n",
      "0               1.57700              1  \n",
      "1               1.57700              1  \n",
      "2               1.57700              1  \n",
      "3               1.57700              1  \n",
      "4               1.57700              1  \n",
      "..                  ...            ...  \n",
      "307             0.71067              1  \n",
      "308             0.71067              1  \n",
      "309             0.71067              1  \n",
      "310             0.71067              1  \n",
      "311             0.71067              1  \n",
      "\n",
      "[312 rows x 12 columns]\n"
     ]
    }
   ],
   "source": [
    "# load data from excel file\n",
    "data = pd.read_csv(r'C:\\\\Users\\\\Dell\\\\Downloads\\\\finalsheet.csv')\n",
    "print(data)\n"
   ]
  },
  {
   "cell_type": "code",
   "execution_count": 3,
   "id": "51aba70c",
   "metadata": {},
   "outputs": [],
   "source": [
    "# split data into input and output variables\n",
    "X = data[['Normalised GSR']]\n",
    "y = data['Anxiety Score']\n"
   ]
  },
  {
   "cell_type": "code",
   "execution_count": 4,
   "id": "a6e0bf09",
   "metadata": {},
   "outputs": [],
   "source": [
    "# split data into training and testing sets\n",
    "X_train, X_test, y_train, y_test = train_test_split(X, y, test_size=0.2, random_state=17)\n",
    "\n"
   ]
  },
  {
   "cell_type": "code",
   "execution_count": 5,
   "id": "6803ac9b",
   "metadata": {},
   "outputs": [
    {
     "data": {
      "text/plain": [
       "AdaBoostClassifier(base_estimator=DecisionTreeClassifier(max_depth=1))"
      ]
     },
     "execution_count": 5,
     "metadata": {},
     "output_type": "execute_result"
    }
   ],
   "source": [
    "# Train the AdaBoost model\n",
    "base_estimator = DecisionTreeClassifier(max_depth=1)\n",
    "n_estimators = 50\n",
    "learning_rate = 1.0\n",
    "model = AdaBoostClassifier(base_estimator=base_estimator, n_estimators=n_estimators, learning_rate=learning_rate)\n",
    "model.fit(X_train, y_train)\n"
   ]
  },
  {
   "cell_type": "code",
   "execution_count": 6,
   "id": "b0c6b6ef",
   "metadata": {},
   "outputs": [
    {
     "name": "stdout",
     "output_type": "stream",
     "text": [
      "Accuracy: 0.7301587301587301\n",
      "Confusion matrix:\n",
      " [[36  2]\n",
      " [15 10]]\n"
     ]
    }
   ],
   "source": [
    "y_pred = model.predict(X_test)\n",
    "accuracy = accuracy_score(y_test, y_pred)\n",
    "confusion = confusion_matrix(y_test, y_pred)\n",
    "print(\"Accuracy:\", accuracy)\n",
    "print(\"Confusion matrix:\\n\", confusion)"
   ]
  },
  {
   "cell_type": "code",
   "execution_count": 7,
   "id": "5e58a5eb",
   "metadata": {},
   "outputs": [],
   "source": [
    "from sklearn.metrics import precision_score, recall_score, fbeta_score"
   ]
  },
  {
   "cell_type": "code",
   "execution_count": 8,
   "id": "8aca242a",
   "metadata": {},
   "outputs": [],
   "source": [
    "# Calculate precision\n",
    "precision = precision_score(y_test, y_pred)\n",
    "# Calculate recall\n",
    "recall = recall_score(y_test, y_pred)\n",
    "# Calculate F-beta score\n",
    "beta = 1.0  # Set the value of beta\n",
    "fbeta = fbeta_score(y_test, y_pred, beta=beta)\n"
   ]
  },
  {
   "cell_type": "code",
   "execution_count": 9,
   "id": "f193900c",
   "metadata": {},
   "outputs": [
    {
     "name": "stdout",
     "output_type": "stream",
     "text": [
      "precision: 0.8333333333333334\n",
      "recall: 0.4\n",
      "F1.0-score: 0.5405405405405406\n"
     ]
    }
   ],
   "source": [
    "print(\"precision:\",precision)\n",
    "print(\"recall:\",recall)\n",
    "print(f\"F{beta}-score:\", fbeta)"
   ]
  },
  {
   "cell_type": "code",
   "execution_count": 10,
   "id": "329f81d2",
   "metadata": {},
   "outputs": [],
   "source": [
    "import matplotlib.pyplot as plt\n"
   ]
  },
  {
   "cell_type": "code",
   "execution_count": 11,
   "id": "31b97cbf",
   "metadata": {},
   "outputs": [
    {
     "data": {
      "image/png": "[encoded data removed]",
      "text/plain": [
       "<Figure size 432x288 with 2 Axes>"
      ]
     },
     "metadata": {
      "needs_background": "light"
     },
     "output_type": "display_data"
    }
   ],
   "source": [
    "# Plot GSR values vs Anxiety scores\n",
    "plt.scatter(X_test, y_test, c=y_pred, cmap='viridis')\n",
    "plt.xlabel(\"GSR Values\")\n",
    "plt.ylabel(\"Anxiety Score\")\n",
    "plt.title(\"GSR Values vs Anxiety Score\")\n",
    "plt.colorbar(label=\"Predicted Class\")\n",
    "plt.yticks([0,1])\n",
    "\n",
    "plt.show()"
   ]
  },
  {
   "cell_type": "code",
   "execution_count": 12,
   "id": "0714af82",
   "metadata": {},
   "outputs": [],
   "source": [
    "import matplotlib.pyplot as plt\n",
    "import numpy as np"
   ]
  },
  {
   "cell_type": "code",
   "execution_count": 13,
   "id": "a63debda",
   "metadata": {},
   "outputs": [],
   "source": [
    "#USING RANDOMFOREST CLASSIFIER \n",
    "import pandas as pd\n",
    "from sklearn.ensemble import RandomForestClassifier\n",
    "from sklearn.model_selection import train_test_split\n",
    "from sklearn.metrics import accuracy_score, confusion_matrix\n"
   ]
  },
  {
   "cell_type": "code",
   "execution_count": 14,
   "id": "db4fbfc7",
   "metadata": {},
   "outputs": [],
   "source": [
    "# Define Random Forest parameters\n",
    "params = {\n",
    "    'n_estimators': 100,\n",
    "    'max_depth': 5,\n",
    "    'random_state': 60\n",
    "}"
   ]
  },
  {
   "cell_type": "code",
   "execution_count": 15,
   "id": "e51a1d50",
   "metadata": {},
   "outputs": [
    {
     "data": {
      "text/plain": [
       "RandomForestClassifier(max_depth=5, random_state=60)"
      ]
     },
     "execution_count": 15,
     "metadata": {},
     "output_type": "execute_result"
    }
   ],
   "source": [
    "# Train the Random Forest model\n",
    "model = RandomForestClassifier(**params)\n",
    "model.fit(X_train, y_train)"
   ]
  },
  {
   "cell_type": "code",
   "execution_count": 16,
   "id": "76f2870c",
   "metadata": {},
   "outputs": [
    {
     "name": "stdout",
     "output_type": "stream",
     "text": [
      "Accuracy: 0.7301587301587301\n",
      "Confusion matrix:\n",
      " [[36  2]\n",
      " [15 10]]\n"
     ]
    }
   ],
   "source": [
    "# Evaluate the model on the testing set\n",
    "y_pred = model.predict(X_test)\n",
    "accuracy = accuracy_score(y_test, y_pred)\n",
    "confusion = confusion_matrix(y_test, y_pred)\n",
    "print(\"Accuracy:\", accuracy)\n",
    "print(\"Confusion matrix:\\n\", confusion)\n"
   ]
  },
  {
   "cell_type": "code",
   "execution_count": 17,
   "id": "7cf5f484",
   "metadata": {},
   "outputs": [],
   "source": [
    "# Calculate precision\n",
    "precision = precision_score(y_test, y_pred)\n",
    "# Calculate recall\n",
    "recall = recall_score(y_test, y_pred)\n",
    "# Calculate F-beta score\n",
    "beta = 1.0  # Set the value of beta\n",
    "fbeta = fbeta_score(y_test, y_pred, beta=beta)"
   ]
  },
  {
   "cell_type": "code",
   "execution_count": 18,
   "id": "17320561",
   "metadata": {},
   "outputs": [
    {
     "name": "stdout",
     "output_type": "stream",
     "text": [
      "precision: 0.8333333333333334\n",
      "recall: 0.4\n",
      "F1.0-score: 0.5405405405405406\n"
     ]
    }
   ],
   "source": [
    "print(\"precision:\",precision)\n",
    "print(\"recall:\",recall)\n",
    "print(f\"F{beta}-score:\", fbeta)"
   ]
  },
  {
   "cell_type": "code",
   "execution_count": 19,
   "id": "73805360",
   "metadata": {},
   "outputs": [],
   "source": [
    "# USING LAZY CLASSIFIER \n",
    "import pandas as pd\n",
    "from lazypredict.Supervised import LazyClassifier\n",
    "from sklearn.model_selection import train_test_split\n"
   ]
  },
  {
   "cell_type": "code",
   "execution_count": 20,
   "id": "ca5cbbe0",
   "metadata": {},
   "outputs": [
    {
     "name": "stderr",
     "output_type": "stream",
     "text": [
      "100%|██████████████████████████████████████████████████████████████████████████████████| 29/29 [00:01<00:00, 26.34it/s]"
     ]
    },
    {
     "name": "stdout",
     "output_type": "stream",
     "text": [
      "                               Accuracy  Balanced Accuracy  ROC AUC  F1 Score  \\\n",
      "Model                                                                           \n",
      "KNeighborsClassifier               0.84               0.81     0.81      0.84   \n",
      "LabelPropagation                   0.81               0.77     0.77      0.80   \n",
      "LabelSpreading                     0.79               0.75     0.75      0.78   \n",
      "NearestCentroid                    0.79               0.75     0.75      0.78   \n",
      "LGBMClassifier                     0.78               0.74     0.74      0.77   \n",
      "SVC                                0.78               0.73     0.73      0.76   \n",
      "QuadraticDiscriminantAnalysis      0.78               0.73     0.73      0.76   \n",
      "GaussianNB                         0.78               0.73     0.73      0.76   \n",
      "BernoulliNB                        0.75               0.71     0.71      0.74   \n",
      "AdaBoostClassifier                 0.73               0.67     0.67      0.70   \n",
      "XGBClassifier                      0.70               0.65     0.65      0.68   \n",
      "BaggingClassifier                  0.70               0.65     0.65      0.67   \n",
      "ExtraTreesClassifier               0.68               0.64     0.64      0.67   \n",
      "DecisionTreeClassifier             0.68               0.64     0.64      0.67   \n",
      "RandomForestClassifier             0.68               0.64     0.64      0.67   \n",
      "ExtraTreeClassifier                0.68               0.63     0.63      0.66   \n",
      "CalibratedClassifierCV             0.67               0.58     0.58      0.58   \n",
      "RidgeClassifierCV                  0.67               0.58     0.58      0.58   \n",
      "RidgeClassifier                    0.67               0.58     0.58      0.58   \n",
      "Perceptron                         0.67               0.58     0.58      0.58   \n",
      "NuSVC                              0.67               0.58     0.58      0.58   \n",
      "LogisticRegression                 0.67               0.58     0.58      0.58   \n",
      "LinearDiscriminantAnalysis         0.67               0.58     0.58      0.58   \n",
      "LinearSVC                          0.67               0.58     0.58      0.58   \n",
      "SGDClassifier                      0.52               0.54     0.54      0.53   \n",
      "DummyClassifier                    0.60               0.50     0.50      0.45   \n",
      "PassiveAggressiveClassifier        0.51               0.48     0.48      0.51   \n",
      "\n",
      "                               Time Taken  \n",
      "Model                                      \n",
      "KNeighborsClassifier                 0.01  \n",
      "LabelPropagation                     0.01  \n",
      "LabelSpreading                       0.01  \n",
      "NearestCentroid                      0.01  \n",
      "LGBMClassifier                       0.03  \n",
      "SVC                                  0.01  \n",
      "QuadraticDiscriminantAnalysis        0.01  \n",
      "GaussianNB                           0.01  \n",
      "BernoulliNB                          0.01  \n",
      "AdaBoostClassifier                   0.05  \n",
      "XGBClassifier                        0.67  \n",
      "BaggingClassifier                    0.02  \n",
      "ExtraTreesClassifier                 0.06  \n",
      "DecisionTreeClassifier               0.01  \n",
      "RandomForestClassifier               0.10  \n",
      "ExtraTreeClassifier                  0.01  \n",
      "CalibratedClassifierCV               0.02  \n",
      "RidgeClassifierCV                    0.01  \n",
      "RidgeClassifier                      0.01  \n",
      "Perceptron                           0.01  \n",
      "NuSVC                                0.01  \n",
      "LogisticRegression                   0.01  \n",
      "LinearDiscriminantAnalysis           0.01  \n",
      "LinearSVC                            0.01  \n",
      "SGDClassifier                        0.01  \n",
      "DummyClassifier                      0.01  \n",
      "PassiveAggressiveClassifier          0.01  \n"
     ]
    },
    {
     "name": "stderr",
     "output_type": "stream",
     "text": [
      "\n"
     ]
    }
   ],
   "source": [
    "clf = LazyClassifier(verbose=0, ignore_warnings=True, custom_metric=None)\n",
    "models, predictions = clf.fit(X_train, X_test, y_train, y_test)\n",
    "\n",
    "# print model performance metrics\n",
    "print(models)\n"
   ]
  },
  {
   "cell_type": "code",
   "execution_count": 21,
   "id": "07fb120b",
   "metadata": {},
   "outputs": [],
   "source": [
    "#USING KNN CLASSIFIER\n",
    "from sklearn.neighbors import KNeighborsClassifier\n",
    "from sklearn.preprocessing import StandardScaler\n"
   ]
  },
  {
   "cell_type": "code",
   "execution_count": 22,
   "id": "ad432a10",
   "metadata": {},
   "outputs": [],
   "source": [
    "scaler = StandardScaler()"
   ]
  },
  {
   "cell_type": "code",
   "execution_count": 23,
   "id": "8fd19a5b",
   "metadata": {},
   "outputs": [],
   "source": [
    "# Create an instance of KNeighborsClassifier\n",
    "knn = KNeighborsClassifier(n_neighbors=5)\n",
    "\n",
    "# Train the model\n",
    "knn.fit(X_train, y_train)\n",
    "\n",
    "# Predict the anxiety scores for the test set\n",
    "y_pred = knn.predict(X_test)"
   ]
  },
  {
   "cell_type": "code",
   "execution_count": 24,
   "id": "f5ca0d10",
   "metadata": {},
   "outputs": [
    {
     "name": "stdout",
     "output_type": "stream",
     "text": [
      "Accuracy: 0.8412698412698413\n"
     ]
    }
   ],
   "source": [
    "# Evaluate the model\n",
    "accuracy = knn.score(X_test, y_test)\n",
    "print(\"Accuracy:\", accuracy)"
   ]
  },
  {
   "cell_type": "code",
   "execution_count": 25,
   "id": "17e63bb8",
   "metadata": {},
   "outputs": [],
   "source": [
    "# Calculate precision\n",
    "precision = precision_score(y_test, y_pred)\n",
    "# Calculate recall\n",
    "recall = recall_score(y_test, y_pred)\n",
    "# Calculate F-beta score\n",
    "beta = 1.0  # Set the value of beta\n",
    "fbeta = fbeta_score(y_test, y_pred, beta=beta)"
   ]
  },
  {
   "cell_type": "code",
   "execution_count": 26,
   "id": "d659a631",
   "metadata": {},
   "outputs": [
    {
     "name": "stdout",
     "output_type": "stream",
     "text": [
      "precision: 0.8947368421052632\n",
      "recall: 0.68\n",
      "F1.0-score: 0.7727272727272727\n"
     ]
    }
   ],
   "source": [
    "print(\"precision:\",precision)\n",
    "print(\"recall:\",recall)\n",
    "print(f\"F{beta}-score:\", fbeta)"
   ]
  },
  {
   "cell_type": "code",
   "execution_count": 27,
   "id": "c6a89c23",
   "metadata": {},
   "outputs": [],
   "source": [
    "# Sample data (replace with your actual data)\n",
    "accuracy_scores = [0.73, 0.73, 0.84,0.79]  # Accuracy scores of the models\n",
    "\n",
    "# Bar graph\n",
    "models = ['AdaBoost', 'Random Forest', 'KNN Classifier','LGBM']\n"
   ]
  },
  {
   "cell_type": "code",
   "execution_count": 28,
   "id": "8d908106",
   "metadata": {},
   "outputs": [
    {
     "data": {
      "image/png": "[encoded data removed]",
      "text/plain": [
       "<Figure size 432x288 with 1 Axes>"
      ]
     },
     "metadata": {
      "needs_background": "light"
     },
     "output_type": "display_data"
    }
   ],
   "source": [
    "plt.bar(models, accuracy_scores)\n",
    "plt.xlabel('Machine Learning Model')\n",
    "plt.ylabel('Accuracy')\n",
    "plt.title('Accuracy of Different Models')\n",
    "plt.ylim([0, 1])  # Set the y-axis limits to range from 0 to 1\n",
    "plt.show()"
   ]
  },
  {
   "cell_type": "code",
   "execution_count": 29,
   "id": "23e03eda",
   "metadata": {},
   "outputs": [],
   "source": [
    "#USING LGBM CLASSIFIER\n",
    "import lightgbm as lgb"
   ]
  },
  {
   "cell_type": "code",
   "execution_count": 30,
   "id": "ffa76f98",
   "metadata": {},
   "outputs": [
    {
     "data": {
      "text/plain": [
       "LGBMClassifier()"
      ]
     },
     "execution_count": 30,
     "metadata": {},
     "output_type": "execute_result"
    }
   ],
   "source": [
    "# Create and train the LGBM Classifier\n",
    "lgbm_model = lgb.LGBMClassifier()\n",
    "lgbm_model.fit(X_train, y_train)"
   ]
  },
  {
   "cell_type": "code",
   "execution_count": 31,
   "id": "cc59afa1",
   "metadata": {},
   "outputs": [],
   "source": [
    "# Predict the anxiety scores for the test set\n",
    "y_pred = lgbm_model.predict(X_test)"
   ]
  },
  {
   "cell_type": "code",
   "execution_count": 32,
   "id": "87732eff",
   "metadata": {},
   "outputs": [
    {
     "name": "stdout",
     "output_type": "stream",
     "text": [
      "Accuracy: 0.7936507936507936\n",
      "precision: 0.8333333333333334\n",
      "recall: 0.6\n",
      "F1.0-score: 0.6976744186046512\n"
     ]
    }
   ],
   "source": [
    "# Calculate the accuracy of the model\n",
    "accuracy = accuracy_score(y_test, y_pred)\n",
    "print(\"Accuracy:\", accuracy)\n",
    "# Calculate precision\n",
    "precision = precision_score(y_test, y_pred)\n",
    "# Calculate recall\n",
    "recall = recall_score(y_test, y_pred)\n",
    "# Calculate F-beta score\n",
    "beta = 1.0  # Set the value of beta\n",
    "fbeta = fbeta_score(y_test, y_pred, beta=beta)\n",
    "print(\"precision:\",precision)\n",
    "print(\"recall:\",recall)\n",
    "print(f\"F{beta}-score:\", fbeta)"
   ]
  },
  {
   "cell_type": "code",
   "execution_count": 33,
   "id": "07450de3",
   "metadata": {},
   "outputs": [
    {
     "name": "stdout",
     "output_type": "stream",
     "text": [
      "Requirement already satisfied: shap in c:\\users\\dell\\anaconda3\\lib\\site-packages (0.41.0)\n",
      "Requirement already satisfied: packaging>20.9 in c:\\users\\dell\\anaconda3\\lib\\site-packages (from shap) (21.3)\n",
      "Requirement already satisfied: cloudpickle in c:\\users\\dell\\anaconda3\\lib\\site-packages (from shap) (2.0.0)\n",
      "Requirement already satisfied: tqdm>4.25.0 in c:\\users\\dell\\anaconda3\\lib\\site-packages (from shap) (4.64.0)\n",
      "Requirement already satisfied: pandas in c:\\users\\dell\\anaconda3\\lib\\site-packages (from shap) (1.4.2)\n",
      "Note: you may need to restart the kernel to use updated packages.Requirement already satisfied: numba in c:\\users\\dell\\anaconda3\\lib\\site-packages (from shap) (0.55.1)\n",
      "Requirement already satisfied: scikit-learn in c:\\users\\dell\\anaconda3\\lib\\site-packages (from shap) (1.0.2)\n",
      "Requirement already satisfied: scipy in c:\\users\\dell\\anaconda3\\lib\\site-packages (from shap) (1.7.3)\n",
      "Requirement already satisfied: slicer==0.0.7 in c:\\users\\dell\\anaconda3\\lib\\site-packages (from shap) (0.0.7)\n",
      "Requirement already satisfied: numpy in c:\\users\\dell\\anaconda3\\lib\\site-packages (from shap) (1.21.5)\n",
      "\n",
      "Requirement already satisfied: pyparsing!=3.0.5,>=2.0.2 in c:\\users\\dell\\anaconda3\\lib\\site-packages (from packaging>20.9->shap) (3.0.4)\n",
      "Requirement already satisfied: colorama in c:\\users\\dell\\anaconda3\\lib\\site-packages (from tqdm>4.25.0->shap) (0.4.4)\n",
      "Requirement already satisfied: setuptools in c:\\users\\dell\\anaconda3\\lib\\site-packages (from numba->shap) (61.2.0)\n",
      "Requirement already satisfied: llvmlite<0.39,>=0.38.0rc1 in c:\\users\\dell\\anaconda3\\lib\\site-packages (from numba->shap) (0.38.0)\n",
      "Requirement already satisfied: pytz>=2020.1 in c:\\users\\dell\\anaconda3\\lib\\site-packages (from pandas->shap) (2021.3)\n",
      "Requirement already satisfied: python-dateutil>=2.8.1 in c:\\users\\dell\\anaconda3\\lib\\site-packages (from pandas->shap) (2.8.2)\n",
      "Requirement already satisfied: six>=1.5 in c:\\users\\dell\\anaconda3\\lib\\site-packages (from python-dateutil>=2.8.1->pandas->shap) (1.16.0)\n",
      "Requirement already satisfied: threadpoolctl>=2.0.0 in c:\\users\\dell\\anaconda3\\lib\\site-packages (from scikit-learn->shap) (2.2.0)\n",
      "Requirement already satisfied: joblib>=0.11 in c:\\users\\dell\\anaconda3\\lib\\site-packages (from scikit-learn->shap) (1.2.0)\n"
     ]
    }
   ],
   "source": [
    "pip install shap\n"
   ]
  },
  {
   "cell_type": "code",
   "execution_count": 34,
   "id": "9e94b7a7",
   "metadata": {},
   "outputs": [],
   "source": [
    "import shap"
   ]
  },
  {
   "cell_type": "code",
   "execution_count": 35,
   "id": "c191482a",
   "metadata": {},
   "outputs": [],
   "source": [
    "# Fits the explainer\n",
    "explainer = shap.Explainer(model.predict, X_test)\n",
    "# Calculates the SHAP values - It takes some time\n",
    "shap_values = explainer(X_test)"
   ]
  },
  {
   "cell_type": "code",
   "execution_count": 36,
   "id": "0a2e3d7c",
   "metadata": {},
   "outputs": [
    {
     "data": {
      "text/plain": [
       ".values =\n",
       "array([[ 0.80952381],\n",
       "       [-0.19047619],\n",
       "       [-0.19047619],\n",
       "       [ 0.80952381],\n",
       "       [-0.19047619],\n",
       "       [ 0.80952381],\n",
       "       [-0.19047619],\n",
       "       [-0.19047619],\n",
       "       [-0.19047619],\n",
       "       [ 0.80952381],\n",
       "       [-0.19047619],\n",
       "       [-0.19047619],\n",
       "       [-0.19047619],\n",
       "       [-0.19047619],\n",
       "       [ 0.80952381],\n",
       "       [ 0.80952381],\n",
       "       [-0.19047619],\n",
       "       [-0.19047619],\n",
       "       [ 0.80952381],\n",
       "       [-0.19047619],\n",
       "       [ 0.80952381],\n",
       "       [-0.19047619],\n",
       "       [-0.19047619],\n",
       "       [-0.19047619],\n",
       "       [-0.19047619],\n",
       "       [-0.19047619],\n",
       "       [-0.19047619],\n",
       "       [-0.19047619],\n",
       "       [-0.19047619],\n",
       "       [-0.19047619],\n",
       "       [-0.19047619],\n",
       "       [-0.19047619],\n",
       "       [-0.19047619],\n",
       "       [ 0.80952381],\n",
       "       [-0.19047619],\n",
       "       [-0.19047619],\n",
       "       [-0.19047619],\n",
       "       [-0.19047619],\n",
       "       [-0.19047619],\n",
       "       [-0.19047619],\n",
       "       [-0.19047619],\n",
       "       [-0.19047619],\n",
       "       [-0.19047619],\n",
       "       [-0.19047619],\n",
       "       [-0.19047619],\n",
       "       [ 0.80952381],\n",
       "       [-0.19047619],\n",
       "       [ 0.80952381],\n",
       "       [-0.19047619],\n",
       "       [-0.19047619],\n",
       "       [-0.19047619],\n",
       "       [-0.19047619],\n",
       "       [-0.19047619],\n",
       "       [-0.19047619],\n",
       "       [-0.19047619],\n",
       "       [-0.19047619],\n",
       "       [ 0.80952381],\n",
       "       [-0.19047619],\n",
       "       [-0.19047619],\n",
       "       [-0.19047619],\n",
       "       [-0.19047619],\n",
       "       [-0.19047619],\n",
       "       [-0.19047619]])\n",
       "\n",
       ".base_values =\n",
       "array([0.19047619, 0.19047619, 0.19047619, 0.19047619, 0.19047619,\n",
       "       0.19047619, 0.19047619, 0.19047619, 0.19047619, 0.19047619,\n",
       "       0.19047619, 0.19047619, 0.19047619, 0.19047619, 0.19047619,\n",
       "       0.19047619, 0.19047619, 0.19047619, 0.19047619, 0.19047619,\n",
       "       0.19047619, 0.19047619, 0.19047619, 0.19047619, 0.19047619,\n",
       "       0.19047619, 0.19047619, 0.19047619, 0.19047619, 0.19047619,\n",
       "       0.19047619, 0.19047619, 0.19047619, 0.19047619, 0.19047619,\n",
       "       0.19047619, 0.19047619, 0.19047619, 0.19047619, 0.19047619,\n",
       "       0.19047619, 0.19047619, 0.19047619, 0.19047619, 0.19047619,\n",
       "       0.19047619, 0.19047619, 0.19047619, 0.19047619, 0.19047619,\n",
       "       0.19047619, 0.19047619, 0.19047619, 0.19047619, 0.19047619,\n",
       "       0.19047619, 0.19047619, 0.19047619, 0.19047619, 0.19047619,\n",
       "       0.19047619, 0.19047619, 0.19047619])\n",
       "\n",
       ".data =\n",
       "array([[  1.90720732],\n",
       "       [  0.53191992],\n",
       "       [  1.7338677 ],\n",
       "       [-10.79382027],\n",
       "       [ -0.295245  ],\n",
       "       [  1.89021873],\n",
       "       [  0.50534737],\n",
       "       [  0.54816387],\n",
       "       [  0.69598122],\n",
       "       [  2.10895756],\n",
       "       [ -1.75259092],\n",
       "       [ -1.71843733],\n",
       "       [ -0.28533335],\n",
       "       [  0.01789243],\n",
       "       [-10.27205472],\n",
       "       [-10.19644829],\n",
       "       [ -0.73598695],\n",
       "       [  1.05836152],\n",
       "       [ -1.68565065],\n",
       "       [  1.56571448],\n",
       "       [ -1.55356236],\n",
       "       [  0.49896608],\n",
       "       [  1.20804394],\n",
       "       [ -1.7542725 ],\n",
       "       [  0.74237484],\n",
       "       [ -2.1740422 ],\n",
       "       [  0.11352773],\n",
       "       [  1.55816356],\n",
       "       [ -0.94204736],\n",
       "       [  0.0937206 ],\n",
       "       [ -1.71894075],\n",
       "       [ -0.3419793 ],\n",
       "       [  0.1905757 ],\n",
       "       [  2.12028203],\n",
       "       [  1.04426675],\n",
       "       [  1.87566052],\n",
       "       [  0.0549533 ],\n",
       "       [  0.03528484],\n",
       "       [ -0.47266373],\n",
       "       [  0.05309848],\n",
       "       [  0.05983932],\n",
       "       [  1.00361306],\n",
       "       [  0.19907538],\n",
       "       [  0.55915056],\n",
       "       [  0.34562152],\n",
       "       [ -9.65087921],\n",
       "       [ -0.67656442],\n",
       "       [ -1.69784077],\n",
       "       [ -0.303481  ],\n",
       "       [  0.32548866],\n",
       "       [ -0.3187598 ],\n",
       "       [ -0.85760158],\n",
       "       [ -0.41577758],\n",
       "       [ -1.78199673],\n",
       "       [ -1.73633655],\n",
       "       [ -0.07399459],\n",
       "       [  2.00960314],\n",
       "       [  0.64663226],\n",
       "       [  0.79457331],\n",
       "       [  1.67461984],\n",
       "       [  1.6744583 ],\n",
       "       [  0.05704828],\n",
       "       [ -0.18101064]])"
      ]
     },
     "execution_count": 36,
     "metadata": {},
     "output_type": "execute_result"
    }
   ],
   "source": [
    "# Evaluate SHAP values\n",
    "shap_values "
   ]
  },
  {
   "cell_type": "code",
   "execution_count": 54,
   "id": "bce4e961",
   "metadata": {},
   "outputs": [],
   "source": [
    "# Train a RandomForestClassifier\n",
    "rf_model = RandomForestClassifier()\n",
    "rf_model.fit(X, y)\n",
    "\n",
    "# Initialize a SHAP explainer with the RandomForestClassifier model\n",
    "explainer = shap.Explainer(rf_model)\n",
    "\n",
    "# Calculate SHAP values for all instances\n",
    "shap_values = explainer.shap_values(X)\n"
   ]
  },
  {
   "cell_type": "code",
   "execution_count": 55,
   "id": "e9d9b0b0",
   "metadata": {},
   "outputs": [
    {
     "name": "stdout",
     "output_type": "stream",
     "text": [
      "Feature: Normalised GSR, Importance: [0.69032051]\n"
     ]
    }
   ],
   "source": [
    "# Calculating feature importances based on mean absolute SHAP values\n",
    "feature_importances = np.abs(shap_values).mean(axis=0)\n",
    "\n",
    "# Printing the feature importances\n",
    "for feature, importance in zip(X.columns, feature_importances):\n",
    "    print(f\"Feature: {feature}, Importance: {importance}\")"
   ]
  },
  {
   "cell_type": "code",
   "execution_count": null,
   "id": "20213f9b",
   "metadata": {},
   "outputs": [],
   "source": []
  },
  {
   "cell_type": "code",
   "execution_count": 37,
   "id": "9f8cad17",
   "metadata": {},
   "outputs": [
    {
     "data": {
      "image/png": "[encoded data removed]",
      "text/plain": [
       "<Figure size 576x144 with 1 Axes>"
      ]
     },
     "metadata": {},
     "output_type": "display_data"
    }
   ],
   "source": [
    "shap.plots.bar(shap_values)"
   ]
  },
  {
   "cell_type": "code",
   "execution_count": 38,
   "id": "d6e3ccba",
   "metadata": {},
   "outputs": [
    {
     "data": {
      "image/png": "[encoded data removed]",
      "text/plain": [
       "<Figure size 576x136.8 with 2 Axes>"
      ]
     },
     "metadata": {
      "needs_background": "light"
     },
     "output_type": "display_data"
    },
    {
     "data": {
      "image/png": "[encoded data removed]",
      "text/plain": [
       "<Figure size 576x136.8 with 2 Axes>"
      ]
     },
     "metadata": {
      "needs_background": "light"
     },
     "output_type": "display_data"
    }
   ],
   "source": [
    "shap.summary_plot(shap_values)\n",
    "# or \n",
    "shap.plots.beeswarm(shap_values)"
   ]
  },
  {
   "cell_type": "code",
   "execution_count": 39,
   "id": "679a5671",
   "metadata": {},
   "outputs": [],
   "source": [
    "from sklearn import datasets\n",
    "from sklearn.metrics import roc_curve, auc\n",
    "from sklearn.linear_model import LogisticRegression\n"
   ]
  },
  {
   "cell_type": "code",
   "execution_count": 40,
   "id": "c678e6ca",
   "metadata": {},
   "outputs": [],
   "source": [
    "# Create and train the logistic regression model\n",
    "logreg_model = LogisticRegression()\n",
    "logreg_model.fit(X_train, y_train)\n",
    "\n",
    "# Predict the probability scores for the test set\n",
    "y_scores = logreg_model.predict_proba(X_test)[:, 1]\n",
    "\n",
    "# Compute the false positive rate, true positive rate, and thresholds\n",
    "fpr, tpr, thresholds = roc_curve(y_test, y_scores)\n",
    "\n",
    "# Calculate the AUC (Area Under the Curve)\n",
    "roc_auc = auc(fpr, tpr)"
   ]
  },
  {
   "cell_type": "code",
   "execution_count": 41,
   "id": "522bacb3",
   "metadata": {},
   "outputs": [
    {
     "name": "stdout",
     "output_type": "stream",
     "text": [
      "AUC: 0.6547368421052632\n"
     ]
    }
   ],
   "source": [
    "# Print the AUC\n",
    "print(\"AUC:\", roc_auc)"
   ]
  },
  {
   "cell_type": "code",
   "execution_count": 42,
   "id": "ad206dd6",
   "metadata": {},
   "outputs": [
    {
     "data": {
      "image/png": "[encoded data removed]",
      "text/plain": [
       "<Figure size 432x288 with 1 Axes>"
      ]
     },
     "metadata": {
      "needs_background": "light"
     },
     "output_type": "display_data"
    }
   ],
   "source": [
    "# Ploting the ROC curve\n",
    "plt.plot(fpr, tpr, label='ROC curve (area = %0.2f)' % roc_auc)\n",
    "plt.plot([0, 1], [0, 1], 'k--')  # Diagonal line representing random guessing\n",
    "plt.xlim([0.0, 1.0])\n",
    "plt.ylim([0.0, 1.05])\n",
    "plt.xlabel('False Positive Rate')\n",
    "plt.ylabel('True Positive Rate')\n",
    "plt.title('Receiver Operating Characteristic (ROC)')\n",
    "plt.legend(loc=\"lower right\")\n",
    "plt.show()"
   ]
  },
  {
   "cell_type": "code",
   "execution_count": null,
   "id": "b5571a6d",
   "metadata": {},
   "outputs": [],
   "source": []
  }
 ],
 "metadata": {
  "kernelspec": {
   "display_name": "Python 3 (ipykernel)",
   "language": "python",
   "name": "python3"
  },
  "language_info": {
   "codemirror_mode": {
    "name": "ipython",
    "version": 3
   },
   "file_extension": ".py",
   "mimetype": "text/x-python",
   "name": "python",
   "nbconvert_exporter": "python",
   "pygments_lexer": "ipython3",
   "version": "3.9.12"
  }
 },
 "nbformat": 4,
 "nbformat_minor": 5
}
